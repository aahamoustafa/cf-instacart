{
 "cells": [
  {
   "cell_type": "markdown",
   "id": "920d9bdb-828b-4a0b-972d-19e24efe96d5",
   "metadata": {},
   "source": [
    "<h1><u>Merging data</u></h1>\n",
    "\n",
    "### 1. Investigating tables (info, shape, describe) \n",
    "### 2. Merging orders and orders_prior table "
   ]
  },
  {
   "cell_type": "code",
   "execution_count": null,
   "id": "41bbb29b-24d9-476f-99db-c23cd01158cb",
   "metadata": {},
   "outputs": [],
   "source": [
    "## importing libraries & data \n",
    "import pandas as pd \n",
    "import numpy as np \n",
    "import os \n",
    "\n",
    "path = r'/Users/aahamoustafa/Desktop/Data Projects/Instacart Basket Analysis 11-2024'\n",
    "\n",
    "df_ords = pd.read_csv(os.path.join(path, '02 Data', 'Prepared Data', 'orders_checked.csv'), index_col = False)\n",
    "\n",
    "df_prods = pd.read_csv(os.path.join(path, '02 Data', 'Prepared Data', 'products_checked.csv'),  index_col = False)\n",
    "\n",
    "df_dep = pd.read_csv(os.path.join(path,'02 Data', 'Original Data', 'departments.csv'),  index_col = False)\n",
    "\n",
    "df_ords_prior = pd.read_csv(os.path.join(path,'02 Data', 'Original Data', 'orders_products_prior.csv'),  index_col = False)\n"
   ]
  },
  {
   "cell_type": "markdown",
   "id": "da1e5f47-357c-4c66-aaea-3d652e7504df",
   "metadata": {},
   "source": [
    "### 1. Investigating Data"
   ]
  },
  {
   "cell_type": "code",
   "execution_count": null,
   "id": "9ab629d4-77b9-4843-ba3f-26b244eccde8",
   "metadata": {},
   "outputs": [],
   "source": [
    "df_ords_prior"
   ]
  },
  {
   "cell_type": "code",
   "execution_count": 19,
   "id": "b747acb5-e66e-41d7-8cf6-eae9047d8fa8",
   "metadata": {},
   "outputs": [
    {
     "data": {
      "text/plain": [
       "(32434489, 4)"
      ]
     },
     "execution_count": 19,
     "metadata": {},
     "output_type": "execute_result"
    }
   ],
   "source": [
    "df_ords_prior.shape"
   ]
  },
  {
   "cell_type": "code",
   "execution_count": 21,
   "id": "40b62d41-8285-4137-9f7a-9d4732982030",
   "metadata": {},
   "outputs": [
    {
     "data": {
      "text/plain": [
       "(3421083, 7)"
      ]
     },
     "execution_count": 21,
     "metadata": {},
     "output_type": "execute_result"
    }
   ],
   "source": [
    "df_ords.shape"
   ]
  },
  {
   "cell_type": "code",
   "execution_count": null,
   "id": "54e37b1a-0e23-4754-8b8f-8eab53107e84",
   "metadata": {},
   "outputs": [],
   "source": [
    "df_ords_prior.describe()"
   ]
  },
  {
   "cell_type": "markdown",
   "id": "33d55b63-45ca-437f-95f0-ebf434e9d058",
   "metadata": {},
   "source": [
    "### 2. Merging orders and orders prior table"
   ]
  },
  {
   "cell_type": "code",
   "execution_count": 41,
   "id": "7f1d4091-55e8-417f-8133-d6b993abb96e",
   "metadata": {},
   "outputs": [
    {
     "data": {
      "text/html": [
       "<div>\n",
       "<style scoped>\n",
       "    .dataframe tbody tr th:only-of-type {\n",
       "        vertical-align: middle;\n",
       "    }\n",
       "\n",
       "    .dataframe tbody tr th {\n",
       "        vertical-align: top;\n",
       "    }\n",
       "\n",
       "    .dataframe thead th {\n",
       "        text-align: right;\n",
       "    }\n",
       "</style>\n",
       "<table border=\"1\" class=\"dataframe\">\n",
       "  <thead>\n",
       "    <tr style=\"text-align: right;\">\n",
       "      <th></th>\n",
       "      <th>Unnamed: 0</th>\n",
       "      <th>order_id</th>\n",
       "      <th>user_id</th>\n",
       "      <th>order_number</th>\n",
       "      <th>order_day_of_week</th>\n",
       "      <th>order_hour_of_day</th>\n",
       "      <th>days_since_prior_order</th>\n",
       "      <th>product_id</th>\n",
       "      <th>add_to_cart_order</th>\n",
       "      <th>reordered</th>\n",
       "      <th>_merge</th>\n",
       "    </tr>\n",
       "  </thead>\n",
       "  <tbody>\n",
       "    <tr>\n",
       "      <th>0</th>\n",
       "      <td>0</td>\n",
       "      <td>2539329</td>\n",
       "      <td>1</td>\n",
       "      <td>1</td>\n",
       "      <td>2</td>\n",
       "      <td>8</td>\n",
       "      <td>NaN</td>\n",
       "      <td>196</td>\n",
       "      <td>1</td>\n",
       "      <td>0</td>\n",
       "      <td>both</td>\n",
       "    </tr>\n",
       "    <tr>\n",
       "      <th>1</th>\n",
       "      <td>0</td>\n",
       "      <td>2539329</td>\n",
       "      <td>1</td>\n",
       "      <td>1</td>\n",
       "      <td>2</td>\n",
       "      <td>8</td>\n",
       "      <td>NaN</td>\n",
       "      <td>14084</td>\n",
       "      <td>2</td>\n",
       "      <td>0</td>\n",
       "      <td>both</td>\n",
       "    </tr>\n",
       "    <tr>\n",
       "      <th>2</th>\n",
       "      <td>0</td>\n",
       "      <td>2539329</td>\n",
       "      <td>1</td>\n",
       "      <td>1</td>\n",
       "      <td>2</td>\n",
       "      <td>8</td>\n",
       "      <td>NaN</td>\n",
       "      <td>12427</td>\n",
       "      <td>3</td>\n",
       "      <td>0</td>\n",
       "      <td>both</td>\n",
       "    </tr>\n",
       "    <tr>\n",
       "      <th>3</th>\n",
       "      <td>0</td>\n",
       "      <td>2539329</td>\n",
       "      <td>1</td>\n",
       "      <td>1</td>\n",
       "      <td>2</td>\n",
       "      <td>8</td>\n",
       "      <td>NaN</td>\n",
       "      <td>26088</td>\n",
       "      <td>4</td>\n",
       "      <td>0</td>\n",
       "      <td>both</td>\n",
       "    </tr>\n",
       "    <tr>\n",
       "      <th>4</th>\n",
       "      <td>0</td>\n",
       "      <td>2539329</td>\n",
       "      <td>1</td>\n",
       "      <td>1</td>\n",
       "      <td>2</td>\n",
       "      <td>8</td>\n",
       "      <td>NaN</td>\n",
       "      <td>26405</td>\n",
       "      <td>5</td>\n",
       "      <td>0</td>\n",
       "      <td>both</td>\n",
       "    </tr>\n",
       "  </tbody>\n",
       "</table>\n",
       "</div>"
      ],
      "text/plain": [
       "   Unnamed: 0  order_id  user_id  order_number  order_day_of_week  \\\n",
       "0           0   2539329        1             1                  2   \n",
       "1           0   2539329        1             1                  2   \n",
       "2           0   2539329        1             1                  2   \n",
       "3           0   2539329        1             1                  2   \n",
       "4           0   2539329        1             1                  2   \n",
       "\n",
       "   order_hour_of_day  days_since_prior_order  product_id  add_to_cart_order  \\\n",
       "0                  8                     NaN         196                  1   \n",
       "1                  8                     NaN       14084                  2   \n",
       "2                  8                     NaN       12427                  3   \n",
       "3                  8                     NaN       26088                  4   \n",
       "4                  8                     NaN       26405                  5   \n",
       "\n",
       "   reordered _merge  \n",
       "0          0   both  \n",
       "1          0   both  \n",
       "2          0   both  \n",
       "3          0   both  \n",
       "4          0   both  "
      ]
     },
     "execution_count": 41,
     "metadata": {},
     "output_type": "execute_result"
    }
   ],
   "source": [
    "df_merged_large = df_ords.merge(df_ords_prior, on = 'order_id', indicator = True) ## indicator is the _merge column \n",
    "\n",
    "df_merged_large.head()"
   ]
  },
  {
   "cell_type": "code",
   "execution_count": 36,
   "id": "39329206-56c5-4103-bd9d-dfbc6b93a132",
   "metadata": {},
   "outputs": [
    {
     "data": {
      "text/plain": [
       "_merge\n",
       "both          32434489\n",
       "left_only       206209\n",
       "right_only           0\n",
       "Name: count, dtype: int64"
      ]
     },
     "execution_count": 36,
     "metadata": {},
     "output_type": "execute_result"
    }
   ],
   "source": [
    "## checking counts of merged table \n",
    "\n",
    "df_merged_large['_merge'].value_counts()"
   ]
  },
  {
   "cell_type": "code",
   "execution_count": 45,
   "id": "3901b18d-24b4-403f-88bf-331b6d95e81b",
   "metadata": {},
   "outputs": [],
   "source": [
    "## exporting merged table using pickle format \n",
    "\n",
    "df_merged_large.to_pickle(os.path.join(path, '02 Data','Prepared Data', 'orders_products_combined.pkl'))"
   ]
  },
  {
   "cell_type": "code",
   "execution_count": null,
   "id": "f6b8d1cc-5900-4943-b075-250a34bf8d88",
   "metadata": {},
   "outputs": [],
   "source": []
  }
 ],
 "metadata": {
  "kernelspec": {
   "display_name": "Python 3 (ipykernel)",
   "language": "python",
   "name": "python3"
  },
  "language_info": {
   "codemirror_mode": {
    "name": "ipython",
    "version": 3
   },
   "file_extension": ".py",
   "mimetype": "text/x-python",
   "name": "python",
   "nbconvert_exporter": "python",
   "pygments_lexer": "ipython3",
   "version": "3.12.4"
  }
 },
 "nbformat": 4,
 "nbformat_minor": 5
}
