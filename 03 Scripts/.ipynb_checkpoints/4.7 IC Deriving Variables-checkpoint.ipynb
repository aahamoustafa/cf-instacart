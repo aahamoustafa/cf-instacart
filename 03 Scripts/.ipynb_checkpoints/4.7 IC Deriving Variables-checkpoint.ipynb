{
 "cells": [
  {
   "cell_type": "markdown",
   "id": "a74dedad-758e-422d-bbe4-a72477ba718f",
   "metadata": {},
   "source": [
    "<h1><u>Deriving new variables</u></h1>\n",
    "\n",
    "### 1. Defining price_label variable using user defined function\n",
    "### 2. Using loc \n",
    "### 3. Using For loops \n",
    "\n",
    "## Exercise Tasks \n",
    "\n",
    "### 4. Busiest Day of the Week Column Using for loop \n",
    "### 5. Busiest Hour of the day Column Using for loop"
   ]
  },
  {
   "cell_type": "code",
   "execution_count": 67,
   "id": "a419d4d0-e0df-4b82-a20f-560f91b4e615",
   "metadata": {},
   "outputs": [],
   "source": [
    "## importing libraries & data \n",
    "import pandas as pd \n",
    "import numpy as np \n",
    "import os \n",
    "\n",
    "path = r'/Users/aahamoustafa/Desktop/Data Projects/Instacart Basket Analysis 11-2024'\n",
    "\n",
    "df_ords_prods =  pd.read_pickle(os.path.join(path,'02 Data', 'Prepared Data', 'ords_prods_merge.pkl'))\n"
   ]
  },
  {
   "cell_type": "code",
   "execution_count": 13,
   "id": "e60aae4d-bedc-4dc2-b7d0-c575769019d8",
   "metadata": {
    "scrolled": true
   },
   "outputs": [
    {
     "data": {
      "text/html": [
       "<div>\n",
       "<style scoped>\n",
       "    .dataframe tbody tr th:only-of-type {\n",
       "        vertical-align: middle;\n",
       "    }\n",
       "\n",
       "    .dataframe tbody tr th {\n",
       "        vertical-align: top;\n",
       "    }\n",
       "\n",
       "    .dataframe thead th {\n",
       "        text-align: right;\n",
       "    }\n",
       "</style>\n",
       "<table border=\"1\" class=\"dataframe\">\n",
       "  <thead>\n",
       "    <tr style=\"text-align: right;\">\n",
       "      <th></th>\n",
       "      <th>order_id</th>\n",
       "      <th>user_id</th>\n",
       "      <th>order_number</th>\n",
       "      <th>order_day_of_week</th>\n",
       "      <th>order_hour_of_day</th>\n",
       "      <th>days_since_prior_order</th>\n",
       "      <th>product_id</th>\n",
       "      <th>add_to_cart_order</th>\n",
       "      <th>reordered</th>\n",
       "      <th>product_name</th>\n",
       "      <th>aisle_id</th>\n",
       "      <th>department_id</th>\n",
       "      <th>prices</th>\n",
       "      <th>_merge</th>\n",
       "    </tr>\n",
       "  </thead>\n",
       "  <tbody>\n",
       "    <tr>\n",
       "      <th>0</th>\n",
       "      <td>2539329</td>\n",
       "      <td>1</td>\n",
       "      <td>1</td>\n",
       "      <td>2</td>\n",
       "      <td>8</td>\n",
       "      <td>NaN</td>\n",
       "      <td>196</td>\n",
       "      <td>1</td>\n",
       "      <td>0</td>\n",
       "      <td>Soda</td>\n",
       "      <td>77</td>\n",
       "      <td>7</td>\n",
       "      <td>9.0</td>\n",
       "      <td>both</td>\n",
       "    </tr>\n",
       "    <tr>\n",
       "      <th>1</th>\n",
       "      <td>2539329</td>\n",
       "      <td>1</td>\n",
       "      <td>1</td>\n",
       "      <td>2</td>\n",
       "      <td>8</td>\n",
       "      <td>NaN</td>\n",
       "      <td>14084</td>\n",
       "      <td>2</td>\n",
       "      <td>0</td>\n",
       "      <td>Organic Unsweetened Vanilla Almond Milk</td>\n",
       "      <td>91</td>\n",
       "      <td>16</td>\n",
       "      <td>12.5</td>\n",
       "      <td>both</td>\n",
       "    </tr>\n",
       "    <tr>\n",
       "      <th>2</th>\n",
       "      <td>2539329</td>\n",
       "      <td>1</td>\n",
       "      <td>1</td>\n",
       "      <td>2</td>\n",
       "      <td>8</td>\n",
       "      <td>NaN</td>\n",
       "      <td>12427</td>\n",
       "      <td>3</td>\n",
       "      <td>0</td>\n",
       "      <td>Original Beef Jerky</td>\n",
       "      <td>23</td>\n",
       "      <td>19</td>\n",
       "      <td>4.4</td>\n",
       "      <td>both</td>\n",
       "    </tr>\n",
       "    <tr>\n",
       "      <th>3</th>\n",
       "      <td>2539329</td>\n",
       "      <td>1</td>\n",
       "      <td>1</td>\n",
       "      <td>2</td>\n",
       "      <td>8</td>\n",
       "      <td>NaN</td>\n",
       "      <td>26088</td>\n",
       "      <td>4</td>\n",
       "      <td>0</td>\n",
       "      <td>Aged White Cheddar Popcorn</td>\n",
       "      <td>23</td>\n",
       "      <td>19</td>\n",
       "      <td>4.7</td>\n",
       "      <td>both</td>\n",
       "    </tr>\n",
       "    <tr>\n",
       "      <th>4</th>\n",
       "      <td>2539329</td>\n",
       "      <td>1</td>\n",
       "      <td>1</td>\n",
       "      <td>2</td>\n",
       "      <td>8</td>\n",
       "      <td>NaN</td>\n",
       "      <td>26405</td>\n",
       "      <td>5</td>\n",
       "      <td>0</td>\n",
       "      <td>XL Pick-A-Size Paper Towel Rolls</td>\n",
       "      <td>54</td>\n",
       "      <td>17</td>\n",
       "      <td>1.0</td>\n",
       "      <td>both</td>\n",
       "    </tr>\n",
       "  </tbody>\n",
       "</table>\n",
       "</div>"
      ],
      "text/plain": [
       "   order_id  user_id  order_number  order_day_of_week  order_hour_of_day  \\\n",
       "0   2539329        1             1                  2                  8   \n",
       "1   2539329        1             1                  2                  8   \n",
       "2   2539329        1             1                  2                  8   \n",
       "3   2539329        1             1                  2                  8   \n",
       "4   2539329        1             1                  2                  8   \n",
       "\n",
       "   days_since_prior_order  product_id  add_to_cart_order  reordered  \\\n",
       "0                     NaN         196                  1          0   \n",
       "1                     NaN       14084                  2          0   \n",
       "2                     NaN       12427                  3          0   \n",
       "3                     NaN       26088                  4          0   \n",
       "4                     NaN       26405                  5          0   \n",
       "\n",
       "                              product_name  aisle_id  department_id  prices  \\\n",
       "0                                     Soda        77              7     9.0   \n",
       "1  Organic Unsweetened Vanilla Almond Milk        91             16    12.5   \n",
       "2                      Original Beef Jerky        23             19     4.4   \n",
       "3               Aged White Cheddar Popcorn        23             19     4.7   \n",
       "4         XL Pick-A-Size Paper Towel Rolls        54             17     1.0   \n",
       "\n",
       "  _merge  \n",
       "0   both  \n",
       "1   both  \n",
       "2   both  \n",
       "3   both  \n",
       "4   both  "
      ]
     },
     "execution_count": 13,
     "metadata": {},
     "output_type": "execute_result"
    }
   ],
   "source": [
    "df_ords_prods.head()"
   ]
  },
  {
   "cell_type": "code",
   "execution_count": 7,
   "id": "f510572b-6c74-4334-abca-af5360f48b81",
   "metadata": {},
   "outputs": [],
   "source": [
    "## using a sample so we dont have memory issues when derving variables \n",
    "\n",
    "df= df_ords_prods[:1000000]"
   ]
  },
  {
   "cell_type": "markdown",
   "id": "4495717f-fcc8-45e5-a8b7-55c8b70a1933",
   "metadata": {},
   "source": [
    "### 1. Defining price_label variable using user defined function"
   ]
  },
  {
   "cell_type": "code",
   "execution_count": 45,
   "id": "2fd7aa07-a40d-4d3a-b2f9-c410c7bbbf40",
   "metadata": {},
   "outputs": [],
   "source": [
    "def price_label(row): ## telling the function to look at each row\n",
    "     if row['prices'] <= 5:\n",
    "         return 'Low-range product'\n",
    "     elif (row['prices'] > 5) and (row['prices'] <= 15):\n",
    "         return 'Mid-range product'\n",
    "     elif row['prices'] > 15:\n",
    "         return 'High range'\n",
    "     else: return 'Not enough data'"
   ]
  },
  {
   "cell_type": "markdown",
   "id": "b842a856-5f6d-4d73-abb8-3cb68049723b",
   "metadata": {},
   "source": [
    "#### Now we have a function price_label that will apply a string to every row within the df"
   ]
  },
  {
   "cell_type": "code",
   "execution_count": 49,
   "id": "c5d83ad3-8147-4043-aebc-0396c40df47e",
   "metadata": {},
   "outputs": [],
   "source": [
    "## assigning this function to a new column \n",
    "df_ords_prods['price_range'] = df_ords_prods.apply(price_label, axis = 1) ## axis = 1 refers to all the rows and axis = 0 refers to all the columns "
   ]
  },
  {
   "cell_type": "code",
   "execution_count": 51,
   "id": "eaf8e873-cdb1-4451-a05c-b2f74ceae4a3",
   "metadata": {},
   "outputs": [
    {
     "data": {
      "text/plain": [
       "price_range\n",
       "Mid-range product    21860860\n",
       "Low-range product    10126321\n",
       "High range             417678\n",
       "Name: count, dtype: int64"
      ]
     },
     "execution_count": 51,
     "metadata": {},
     "output_type": "execute_result"
    }
   ],
   "source": [
    "## doing a count based on the ranges \n",
    "\n",
    "df_ords_prods['price_range'].value_counts(dropna = False) "
   ]
  },
  {
   "cell_type": "code",
   "execution_count": 94,
   "id": "d10409d8-52e8-42b4-84fe-fd34bdc8a3b7",
   "metadata": {},
   "outputs": [
    {
     "data": {
      "text/plain": [
       "99999.0"
      ]
     },
     "execution_count": 94,
     "metadata": {},
     "output_type": "execute_result"
    }
   ],
   "source": [
    "## what is the max price in the subset of your data?\n",
    "\n",
    "df_ords_prods['prices'].max()"
   ]
  },
  {
   "cell_type": "markdown",
   "id": "c2305da4-16df-4b0b-97d5-2cc1af5120ae",
   "metadata": {},
   "source": [
    "### 2. Testing the loc function efficiency on the whole dataframe"
   ]
  },
  {
   "cell_type": "code",
   "execution_count": 71,
   "id": "5b55fb4a-895a-44b9-9efc-4cbf4f3ea55b",
   "metadata": {},
   "outputs": [],
   "source": [
    "df_ords_prods.loc[df_ords_prods['prices']> 15, 'price_range_loc'] = 'High range Product'\n",
    "df_ords_prods.loc[(df_ords_prods['prices'] <= 15) & (df_ords_prods['prices'] > 5), 'price_range_loc'] = 'Mid range Product'\n",
    "df_ords_prods.loc[df_ords_prods['prices'] <= 5, 'price_range_loc'] = 'Low range Product'"
   ]
  },
  {
   "cell_type": "code",
   "execution_count": 87,
   "id": "00745598-c1d3-44d2-bac0-fc239c2dd2ce",
   "metadata": {},
   "outputs": [
    {
     "data": {
      "text/plain": [
       "price_range_loc\n",
       "Mid range Product     21860860\n",
       "Low range Product     10126321\n",
       "High range Product      417678\n",
       "Name: count, dtype: int64"
      ]
     },
     "execution_count": 87,
     "metadata": {},
     "output_type": "execute_result"
    }
   ],
   "source": [
    "df_ords_prods['price_range_loc'].value_counts(dropna = False)"
   ]
  },
  {
   "cell_type": "markdown",
   "id": "737df983-914d-45ba-802d-f4b34d065a74",
   "metadata": {},
   "source": [
    "#### By testing the loc and the user defined function, the loc function runs much faster since it applies the conditional filters before searching through the dataframe "
   ]
  },
  {
   "cell_type": "markdown",
   "id": "f3ef7f93-d08f-4ea9-a783-f1421edb3724",
   "metadata": {},
   "source": [
    "### 3. If statements with For Loops "
   ]
  },
  {
   "cell_type": "code",
   "execution_count": 101,
   "id": "b5abd01d-5b91-4516-98db-1463c3ca8ded",
   "metadata": {},
   "outputs": [
    {
     "data": {
      "text/plain": [
       "order_day_of_week\n",
       "0    6204182\n",
       "1    5660230\n",
       "6    4496490\n",
       "2    4213830\n",
       "5    4205791\n",
       "3    3840534\n",
       "4    3783802\n",
       "Name: count, dtype: int64"
      ]
     },
     "execution_count": 101,
     "metadata": {},
     "output_type": "execute_result"
    }
   ],
   "source": [
    "## Finding out the busiest day of the week \n",
    "\n",
    "df_ords_prods['order_day_of_week'].value_counts()"
   ]
  },
  {
   "cell_type": "code",
   "execution_count": 103,
   "id": "12837e96-8559-4e64-a7cc-9dc8e5e60680",
   "metadata": {},
   "outputs": [],
   "source": [
    "## creating a placeholder for our for loop output \n",
    "\n",
    "result = []\n",
    "for value in df_ords_prods['order_day_of_week']: \n",
    "    if value == 0:\n",
    "        result.append(\"Busiest Day\")\n",
    "    elif value == 4: \n",
    "        result.append(\"Least Busy\")\n",
    "    else:\n",
    "        result.append(\"Regularly Busy\")"
   ]
  },
  {
   "cell_type": "code",
   "execution_count": 109,
   "id": "059b9c78-0646-4c3e-bce7-d94b2139d21f",
   "metadata": {},
   "outputs": [
    {
     "data": {
      "text/plain": [
       "Busiest_day\n",
       "Regularly Busy    22416875\n",
       "Busiest Day        6204182\n",
       "Least Busy         3783802\n",
       "Name: count, dtype: int64"
      ]
     },
     "execution_count": 109,
     "metadata": {},
     "output_type": "execute_result"
    }
   ],
   "source": [
    "## creating a new Busiest Day column\n",
    "\n",
    "df_ords_prods['Busiest_day'] = result \n",
    "df_ords_prods['Busiest_day'].value_counts()"
   ]
  },
  {
   "cell_type": "code",
   "execution_count": 117,
   "id": "bc8789c2-e82a-43b9-acd6-90f6dc0991ac",
   "metadata": {
    "scrolled": true
   },
   "outputs": [
    {
     "data": {
      "text/html": [
       "<div>\n",
       "<style scoped>\n",
       "    .dataframe tbody tr th:only-of-type {\n",
       "        vertical-align: middle;\n",
       "    }\n",
       "\n",
       "    .dataframe tbody tr th {\n",
       "        vertical-align: top;\n",
       "    }\n",
       "\n",
       "    .dataframe thead th {\n",
       "        text-align: right;\n",
       "    }\n",
       "</style>\n",
       "<table border=\"1\" class=\"dataframe\">\n",
       "  <thead>\n",
       "    <tr style=\"text-align: right;\">\n",
       "      <th></th>\n",
       "      <th>order_id</th>\n",
       "      <th>user_id</th>\n",
       "      <th>order_number</th>\n",
       "      <th>order_day_of_week</th>\n",
       "      <th>order_hour_of_day</th>\n",
       "      <th>days_since_prior_order</th>\n",
       "      <th>product_id</th>\n",
       "      <th>add_to_cart_order</th>\n",
       "      <th>reordered</th>\n",
       "      <th>product_name</th>\n",
       "      <th>aisle_id</th>\n",
       "      <th>department_id</th>\n",
       "      <th>prices</th>\n",
       "      <th>_merge</th>\n",
       "      <th>price_range_loc</th>\n",
       "      <th>Busiest_day</th>\n",
       "    </tr>\n",
       "  </thead>\n",
       "  <tbody>\n",
       "    <tr>\n",
       "      <th>0</th>\n",
       "      <td>2539329</td>\n",
       "      <td>1</td>\n",
       "      <td>1</td>\n",
       "      <td>2</td>\n",
       "      <td>8</td>\n",
       "      <td>NaN</td>\n",
       "      <td>196</td>\n",
       "      <td>1</td>\n",
       "      <td>0</td>\n",
       "      <td>Soda</td>\n",
       "      <td>77</td>\n",
       "      <td>7</td>\n",
       "      <td>9.0</td>\n",
       "      <td>both</td>\n",
       "      <td>Mid range Product</td>\n",
       "      <td>Regularly Busy</td>\n",
       "    </tr>\n",
       "    <tr>\n",
       "      <th>1</th>\n",
       "      <td>2539329</td>\n",
       "      <td>1</td>\n",
       "      <td>1</td>\n",
       "      <td>2</td>\n",
       "      <td>8</td>\n",
       "      <td>NaN</td>\n",
       "      <td>14084</td>\n",
       "      <td>2</td>\n",
       "      <td>0</td>\n",
       "      <td>Organic Unsweetened Vanilla Almond Milk</td>\n",
       "      <td>91</td>\n",
       "      <td>16</td>\n",
       "      <td>12.5</td>\n",
       "      <td>both</td>\n",
       "      <td>Mid range Product</td>\n",
       "      <td>Regularly Busy</td>\n",
       "    </tr>\n",
       "    <tr>\n",
       "      <th>2</th>\n",
       "      <td>2539329</td>\n",
       "      <td>1</td>\n",
       "      <td>1</td>\n",
       "      <td>2</td>\n",
       "      <td>8</td>\n",
       "      <td>NaN</td>\n",
       "      <td>12427</td>\n",
       "      <td>3</td>\n",
       "      <td>0</td>\n",
       "      <td>Original Beef Jerky</td>\n",
       "      <td>23</td>\n",
       "      <td>19</td>\n",
       "      <td>4.4</td>\n",
       "      <td>both</td>\n",
       "      <td>Low range Product</td>\n",
       "      <td>Regularly Busy</td>\n",
       "    </tr>\n",
       "    <tr>\n",
       "      <th>3</th>\n",
       "      <td>2539329</td>\n",
       "      <td>1</td>\n",
       "      <td>1</td>\n",
       "      <td>2</td>\n",
       "      <td>8</td>\n",
       "      <td>NaN</td>\n",
       "      <td>26088</td>\n",
       "      <td>4</td>\n",
       "      <td>0</td>\n",
       "      <td>Aged White Cheddar Popcorn</td>\n",
       "      <td>23</td>\n",
       "      <td>19</td>\n",
       "      <td>4.7</td>\n",
       "      <td>both</td>\n",
       "      <td>Low range Product</td>\n",
       "      <td>Regularly Busy</td>\n",
       "    </tr>\n",
       "    <tr>\n",
       "      <th>4</th>\n",
       "      <td>2539329</td>\n",
       "      <td>1</td>\n",
       "      <td>1</td>\n",
       "      <td>2</td>\n",
       "      <td>8</td>\n",
       "      <td>NaN</td>\n",
       "      <td>26405</td>\n",
       "      <td>5</td>\n",
       "      <td>0</td>\n",
       "      <td>XL Pick-A-Size Paper Towel Rolls</td>\n",
       "      <td>54</td>\n",
       "      <td>17</td>\n",
       "      <td>1.0</td>\n",
       "      <td>both</td>\n",
       "      <td>Low range Product</td>\n",
       "      <td>Regularly Busy</td>\n",
       "    </tr>\n",
       "  </tbody>\n",
       "</table>\n",
       "</div>"
      ],
      "text/plain": [
       "   order_id  user_id  order_number  order_day_of_week  order_hour_of_day  \\\n",
       "0   2539329        1             1                  2                  8   \n",
       "1   2539329        1             1                  2                  8   \n",
       "2   2539329        1             1                  2                  8   \n",
       "3   2539329        1             1                  2                  8   \n",
       "4   2539329        1             1                  2                  8   \n",
       "\n",
       "   days_since_prior_order  product_id  add_to_cart_order  reordered  \\\n",
       "0                     NaN         196                  1          0   \n",
       "1                     NaN       14084                  2          0   \n",
       "2                     NaN       12427                  3          0   \n",
       "3                     NaN       26088                  4          0   \n",
       "4                     NaN       26405                  5          0   \n",
       "\n",
       "                              product_name  aisle_id  department_id  prices  \\\n",
       "0                                     Soda        77              7     9.0   \n",
       "1  Organic Unsweetened Vanilla Almond Milk        91             16    12.5   \n",
       "2                      Original Beef Jerky        23             19     4.4   \n",
       "3               Aged White Cheddar Popcorn        23             19     4.7   \n",
       "4         XL Pick-A-Size Paper Towel Rolls        54             17     1.0   \n",
       "\n",
       "  _merge    price_range_loc     Busiest_day  \n",
       "0   both  Mid range Product  Regularly Busy  \n",
       "1   both  Mid range Product  Regularly Busy  \n",
       "2   both  Low range Product  Regularly Busy  \n",
       "3   both  Low range Product  Regularly Busy  \n",
       "4   both  Low range Product  Regularly Busy  "
      ]
     },
     "execution_count": 117,
     "metadata": {},
     "output_type": "execute_result"
    }
   ],
   "source": [
    "df_ords_prods.head()"
   ]
  },
  {
   "cell_type": "markdown",
   "id": "9f152803-ecda-44b1-ba73-f29ddbda08e4",
   "metadata": {},
   "source": [
    "# Exercise Tasks "
   ]
  },
  {
   "cell_type": "markdown",
   "id": "f884ba78-326e-496d-9d6c-15e3a3ebb488",
   "metadata": {},
   "source": [
    "### 4. Change Busiest Day column (With 2 most busiest days & 2 most slowest days grouped)"
   ]
  },
  {
   "cell_type": "code",
   "execution_count": 122,
   "id": "31c38c95-81e2-4709-aaaa-d8b0c2290374",
   "metadata": {},
   "outputs": [],
   "source": [
    "result_new = []\n",
    "for value in df_ords_prods['order_day_of_week']: \n",
    "    if value == 0 or value == 1:\n",
    "        result_new.append(\"Busiest Days\")\n",
    "    elif value == 3 or value == 4: \n",
    "        result_new.append(\"Slowest Days\")\n",
    "    else:\n",
    "        result_new.append(\"Regularly Busy\")"
   ]
  },
  {
   "cell_type": "code",
   "execution_count": 124,
   "id": "462f68d4-5768-41ba-a28a-fc60d6e9b211",
   "metadata": {},
   "outputs": [
    {
     "data": {
      "text/plain": [
       "Busiest_day\n",
       "Regularly Busy    12916111\n",
       "Busiest Days      11864412\n",
       "Slowest Days       7624336\n",
       "Name: count, dtype: int64"
      ]
     },
     "execution_count": 124,
     "metadata": {},
     "output_type": "execute_result"
    }
   ],
   "source": [
    "df_ords_prods['Busiest_day'] = result_new \n",
    "df_ords_prods['Busiest_day'].value_counts()"
   ]
  },
  {
   "cell_type": "markdown",
   "id": "729fd24a-fbd7-417e-bcd2-4d5440d2cfe4",
   "metadata": {},
   "source": [
    "#### Busiest Days are Saturday & Sunday \n",
    "#### Slowest Days are Tuesday & Wednesday \n",
    "#### cross checking with our counts on the order_day_of_week we get accurate results \n"
   ]
  },
  {
   "cell_type": "markdown",
   "id": "6184d123-e331-49e9-a113-446e6e38b395",
   "metadata": {},
   "source": [
    "### 5. Busiest Hours of the day to address app freezing "
   ]
  },
  {
   "cell_type": "code",
   "execution_count": 134,
   "id": "e323bee8-ce7d-4668-8b9b-39c1f2eeb94a",
   "metadata": {
    "scrolled": true
   },
   "outputs": [
    {
     "data": {
      "text/plain": [
       "order_hour_of_day\n",
       "10    2761760\n",
       "11    2736140\n",
       "14    2689136\n",
       "15    2662144\n",
       "13    2660954\n",
       "12    2618532\n",
       "16    2535202\n",
       "9     2454203\n",
       "17    2087654\n",
       "8     1718118\n",
       "18    1636502\n",
       "19    1258305\n",
       "20     976156\n",
       "7      891054\n",
       "21     795637\n",
       "22     634225\n",
       "23     402316\n",
       "6      290493\n",
       "0      218769\n",
       "1      115700\n",
       "5       87961\n",
       "2       69375\n",
       "4       53242\n",
       "3       51281\n",
       "Name: count, dtype: int64"
      ]
     },
     "execution_count": 134,
     "metadata": {},
     "output_type": "execute_result"
    }
   ],
   "source": [
    "## counts of orders per hour \n",
    "\n",
    "df_ords_prods['order_hour_of_day'].value_counts()"
   ]
  },
  {
   "cell_type": "markdown",
   "id": "52b0292e-9dc6-429c-a8b6-57f18d21ecb0",
   "metadata": {},
   "source": [
    "#### Per the info above, we will split orders under 3 ranges \n",
    "Most orders: Counts >= 2,000,000 <br>\n",
    "(Top hours: 10, 11, 14, 15, 13, 12, 16, 9) <br>\n",
    "Average orders: Counts between 800,000 and 2,000,000 <br>\n",
    "(Hours: 17, 8, 18, 19, 20, 7) <br>\n",
    "Fewest orders: Counts < 800,000 <br>\n",
    "(Hours: 21, 22, 23, 6, 0, 1, 5, 2, 4, 3) <br>"
   ]
  },
  {
   "cell_type": "code",
   "execution_count": 146,
   "id": "9ac89ae2-7b8a-4997-a75f-45e2ac426c4d",
   "metadata": {},
   "outputs": [],
   "source": [
    "ranges = [] \n",
    "\n",
    "for value in df_ords_prods['order_hour_of_day']: \n",
    "    if value in [10,11,14,15,13,12,16,9]:\n",
    "        ranges.append(\"Most Orders\")\n",
    "    elif value in [17,8,18,19,20,7]: \n",
    "        ranges.append(\"Average Orders\")\n",
    "    else:\n",
    "        ranges.append(\"Fewest Orders\")"
   ]
  },
  {
   "cell_type": "code",
   "execution_count": 148,
   "id": "96d08f84-b076-4791-8278-5c3d524d0ff8",
   "metadata": {},
   "outputs": [
    {
     "data": {
      "text/plain": [
       "Busiest_period_of_day\n",
       "Most Orders       21118071\n",
       "Average Orders     8567789\n",
       "Fewest Orders      2718999\n",
       "Name: count, dtype: int64"
      ]
     },
     "execution_count": 148,
     "metadata": {},
     "output_type": "execute_result"
    }
   ],
   "source": [
    "## creating a new busiest period of day column \n",
    "df_ords_prods['Busiest_period_of_day'] = ranges\n",
    "df_ords_prods['Busiest_period_of_day'].value_counts()"
   ]
  },
  {
   "cell_type": "markdown",
   "id": "ee80b6d9-be30-4828-8051-b1d0be36d43a",
   "metadata": {},
   "source": [
    "### Exporting the Data "
   ]
  },
  {
   "cell_type": "code",
   "execution_count": 156,
   "id": "18141500-11f1-4cfc-b820-d01d923b2eee",
   "metadata": {},
   "outputs": [],
   "source": [
    "df_ords_prods.to_pickle(os.path.join(path, '02 Data','Prepared Data', 'ords_prods_latest.pkl'))"
   ]
  }
 ],
 "metadata": {
  "kernelspec": {
   "display_name": "Python 3 (ipykernel)",
   "language": "python",
   "name": "python3"
  },
  "language_info": {
   "codemirror_mode": {
    "name": "ipython",
    "version": 3
   },
   "file_extension": ".py",
   "mimetype": "text/x-python",
   "name": "python",
   "nbconvert_exporter": "python",
   "pygments_lexer": "ipython3",
   "version": "3.12.4"
  }
 },
 "nbformat": 4,
 "nbformat_minor": 5
}
