{
 "cells": [
  {
   "cell_type": "markdown",
   "id": "07200e31-e993-4ce7-9f08-c92b7630091a",
   "metadata": {},
   "source": [
    "<h1><u>Data Prep</u></h1>\n",
    "\n",
    "### 1. Check for mixed data type columns in dataframe \n",
    "\n",
    "## Consistency Checks on Products Table\n",
    "\n",
    "### 2. Finding missing observations\n",
    "\n",
    "## Consistency Checks on Orders Table\n",
    "\n",
    "### 3. Investigating Data\n",
    "\n",
    "### 4. Mixed Data Type Check \n",
    "\n",
    "### 5. Missing Values Check \n",
    "\n",
    "### 6. Duplicate Check"
   ]
  },
  {
   "cell_type": "code",
   "execution_count": 20,
   "id": "3c0b961a-2195-4f7a-8242-c53963549249",
   "metadata": {},
   "outputs": [],
   "source": [
    "## importing libraries & data \n",
    "import numpy as np \n",
    "import pandas as pd \n",
    "import os \n",
    "\n",
    "\n",
    "\n",
    "path = r'/Users/aahamoustafa/Desktop/Data Projects/Instacart Basket Analysis  12-2024'\n",
    "\n",
    "df_prods = pd.read_csv(os.path.join(path, '02 Data', 'Original Data', 'products.csv'),  index_col = False)\n",
    "\n",
    "cols_list = [ 'order_id', 'user_id', 'order_number', 'order_day_of_week', 'order_hour_of_day', 'days_since_prior_order']\n",
    "\n",
    "df_ords = pd.read_csv(os.path.join(path, '02 Data', 'Prepared Data', 'orders_checked.csv'), index_col = False, usecols = cols_list)\n"
   ]
  },
  {
   "cell_type": "markdown",
   "id": "7b0b95c4-dd3e-4a2c-8618-ff07441feb76",
   "metadata": {},
   "source": [
    "### 1. Mixed Data Type Column Check "
   ]
  },
  {
   "cell_type": "code",
   "execution_count": 9,
   "id": "ed029e81-b421-4e0e-84a0-90e0af41e067",
   "metadata": {},
   "outputs": [
    {
     "name": "stdout",
     "output_type": "stream",
     "text": [
      "mix\n"
     ]
    },
    {
     "name": "stderr",
     "output_type": "stream",
     "text": [
      "/var/folders/_6/h3nvtrc54137rkl3n8zpfwnc0000gn/T/ipykernel_1500/325864014.py:10: FutureWarning: DataFrame.applymap has been deprecated. Use DataFrame.map instead.\n",
      "  weird = (df_test[[col]].applymap(type) != df_test[[col]].iloc[0].apply(type)).any(axis = 1)\n"
     ]
    }
   ],
   "source": [
    "## creating a data frame with mixed data types \n",
    "\n",
    "df_test = pd.DataFrame()\n",
    "\n",
    "df_test['mix'] = ['a','b',1,True]\n",
    "\n",
    "## to check whether a dataframe contains any mixed type columns \n",
    "\n",
    "for col in df_test.columns.tolist():\n",
    "  weird = (df_test[[col]].applymap(type) != df_test[[col]].iloc[0].apply(type)).any(axis = 1)\n",
    "  if len (df_test[weird]) > 0:\n",
    "    print (col)\n"
   ]
  },
  {
   "cell_type": "code",
   "execution_count": 10,
   "id": "33661086-e1fa-4f76-a9ef-339819d7788f",
   "metadata": {},
   "outputs": [],
   "source": [
    "## changing the column's data type \n",
    "\n",
    "df_test['mix'] = df_test['mix'].astype('str')"
   ]
  },
  {
   "cell_type": "markdown",
   "id": "c3a1778e-1b88-4d5b-9e9d-5d9fa4becca4",
   "metadata": {},
   "source": [
    "## Consistency Checks on Products Table"
   ]
  },
  {
   "cell_type": "markdown",
   "id": "b343d753-51c1-48d7-8568-a00ddec47542",
   "metadata": {},
   "source": [
    "### 2. Finding Missing Observations"
   ]
  },
  {
   "cell_type": "code",
   "execution_count": 13,
   "id": "dddcf4b4-86ed-4c02-9b68-1e6cde201acb",
   "metadata": {
    "scrolled": true
   },
   "outputs": [
    {
     "data": {
      "text/plain": [
       "product_id        0\n",
       "product_name     16\n",
       "aisle_id          0\n",
       "department_id     0\n",
       "prices            0\n",
       "dtype: int64"
      ]
     },
     "execution_count": 13,
     "metadata": {},
     "output_type": "execute_result"
    }
   ],
   "source": [
    "df_prods.isnull().sum()"
   ]
  },
  {
   "cell_type": "code",
   "execution_count": 15,
   "id": "a097c8bf-5a26-48d0-9b64-84f07db3a6e3",
   "metadata": {
    "scrolled": true
   },
   "outputs": [
    {
     "data": {
      "text/html": [
       "<div>\n",
       "<style scoped>\n",
       "    .dataframe tbody tr th:only-of-type {\n",
       "        vertical-align: middle;\n",
       "    }\n",
       "\n",
       "    .dataframe tbody tr th {\n",
       "        vertical-align: top;\n",
       "    }\n",
       "\n",
       "    .dataframe thead th {\n",
       "        text-align: right;\n",
       "    }\n",
       "</style>\n",
       "<table border=\"1\" class=\"dataframe\">\n",
       "  <thead>\n",
       "    <tr style=\"text-align: right;\">\n",
       "      <th></th>\n",
       "      <th>product_id</th>\n",
       "      <th>product_name</th>\n",
       "      <th>aisle_id</th>\n",
       "      <th>department_id</th>\n",
       "      <th>prices</th>\n",
       "    </tr>\n",
       "  </thead>\n",
       "  <tbody>\n",
       "    <tr>\n",
       "      <th>33</th>\n",
       "      <td>34</td>\n",
       "      <td>NaN</td>\n",
       "      <td>121</td>\n",
       "      <td>14</td>\n",
       "      <td>12.2</td>\n",
       "    </tr>\n",
       "    <tr>\n",
       "      <th>68</th>\n",
       "      <td>69</td>\n",
       "      <td>NaN</td>\n",
       "      <td>26</td>\n",
       "      <td>7</td>\n",
       "      <td>11.8</td>\n",
       "    </tr>\n",
       "    <tr>\n",
       "      <th>115</th>\n",
       "      <td>116</td>\n",
       "      <td>NaN</td>\n",
       "      <td>93</td>\n",
       "      <td>3</td>\n",
       "      <td>10.8</td>\n",
       "    </tr>\n",
       "    <tr>\n",
       "      <th>261</th>\n",
       "      <td>262</td>\n",
       "      <td>NaN</td>\n",
       "      <td>110</td>\n",
       "      <td>13</td>\n",
       "      <td>12.1</td>\n",
       "    </tr>\n",
       "    <tr>\n",
       "      <th>525</th>\n",
       "      <td>525</td>\n",
       "      <td>NaN</td>\n",
       "      <td>109</td>\n",
       "      <td>11</td>\n",
       "      <td>1.2</td>\n",
       "    </tr>\n",
       "    <tr>\n",
       "      <th>1511</th>\n",
       "      <td>1511</td>\n",
       "      <td>NaN</td>\n",
       "      <td>84</td>\n",
       "      <td>16</td>\n",
       "      <td>14.3</td>\n",
       "    </tr>\n",
       "    <tr>\n",
       "      <th>1780</th>\n",
       "      <td>1780</td>\n",
       "      <td>NaN</td>\n",
       "      <td>126</td>\n",
       "      <td>11</td>\n",
       "      <td>12.3</td>\n",
       "    </tr>\n",
       "    <tr>\n",
       "      <th>2240</th>\n",
       "      <td>2240</td>\n",
       "      <td>NaN</td>\n",
       "      <td>52</td>\n",
       "      <td>1</td>\n",
       "      <td>14.2</td>\n",
       "    </tr>\n",
       "    <tr>\n",
       "      <th>2586</th>\n",
       "      <td>2586</td>\n",
       "      <td>NaN</td>\n",
       "      <td>104</td>\n",
       "      <td>13</td>\n",
       "      <td>12.4</td>\n",
       "    </tr>\n",
       "    <tr>\n",
       "      <th>3159</th>\n",
       "      <td>3159</td>\n",
       "      <td>NaN</td>\n",
       "      <td>126</td>\n",
       "      <td>11</td>\n",
       "      <td>13.1</td>\n",
       "    </tr>\n",
       "    <tr>\n",
       "      <th>3230</th>\n",
       "      <td>3230</td>\n",
       "      <td>NaN</td>\n",
       "      <td>120</td>\n",
       "      <td>16</td>\n",
       "      <td>14.4</td>\n",
       "    </tr>\n",
       "    <tr>\n",
       "      <th>3736</th>\n",
       "      <td>3736</td>\n",
       "      <td>NaN</td>\n",
       "      <td>41</td>\n",
       "      <td>8</td>\n",
       "      <td>14.8</td>\n",
       "    </tr>\n",
       "    <tr>\n",
       "      <th>4283</th>\n",
       "      <td>4283</td>\n",
       "      <td>NaN</td>\n",
       "      <td>77</td>\n",
       "      <td>7</td>\n",
       "      <td>14.4</td>\n",
       "    </tr>\n",
       "    <tr>\n",
       "      <th>4790</th>\n",
       "      <td>4790</td>\n",
       "      <td>NaN</td>\n",
       "      <td>91</td>\n",
       "      <td>16</td>\n",
       "      <td>14.5</td>\n",
       "    </tr>\n",
       "    <tr>\n",
       "      <th>38187</th>\n",
       "      <td>38183</td>\n",
       "      <td>NaN</td>\n",
       "      <td>39</td>\n",
       "      <td>12</td>\n",
       "      <td>20.9</td>\n",
       "    </tr>\n",
       "    <tr>\n",
       "      <th>40444</th>\n",
       "      <td>40440</td>\n",
       "      <td>NaN</td>\n",
       "      <td>120</td>\n",
       "      <td>16</td>\n",
       "      <td>14.8</td>\n",
       "    </tr>\n",
       "  </tbody>\n",
       "</table>\n",
       "</div>"
      ],
      "text/plain": [
       "       product_id product_name  aisle_id  department_id  prices\n",
       "33             34          NaN       121             14    12.2\n",
       "68             69          NaN        26              7    11.8\n",
       "115           116          NaN        93              3    10.8\n",
       "261           262          NaN       110             13    12.1\n",
       "525           525          NaN       109             11     1.2\n",
       "1511         1511          NaN        84             16    14.3\n",
       "1780         1780          NaN       126             11    12.3\n",
       "2240         2240          NaN        52              1    14.2\n",
       "2586         2586          NaN       104             13    12.4\n",
       "3159         3159          NaN       126             11    13.1\n",
       "3230         3230          NaN       120             16    14.4\n",
       "3736         3736          NaN        41              8    14.8\n",
       "4283         4283          NaN        77              7    14.4\n",
       "4790         4790          NaN        91             16    14.5\n",
       "38187       38183          NaN        39             12    20.9\n",
       "40444       40440          NaN       120             16    14.8"
      ]
     },
     "execution_count": 15,
     "metadata": {},
     "output_type": "execute_result"
    }
   ],
   "source": [
    "## viewing those missing values \n",
    "\n",
    "df_nan_prods = df_prods[df_prods['product_name'].isnull() == True]\n",
    "\n",
    "df_nan_prods"
   ]
  },
  {
   "cell_type": "code",
   "execution_count": 24,
   "id": "f13fa634-f5a4-4b1f-a00e-9ac2d7f0abba",
   "metadata": {},
   "outputs": [],
   "source": [
    "## Addressing these missing values \n",
    "\n",
    "df_prods_clean = df_prods[df_prods['product_name'].isnull() == False]\n"
   ]
  },
  {
   "cell_type": "markdown",
   "id": "88b8a52a-a719-4125-97ef-d03e412715a9",
   "metadata": {},
   "source": [
    "We filtered out the rows with product names that are missing and placed that into a cleaned dataframe"
   ]
  },
  {
   "cell_type": "markdown",
   "id": "3942af5e-95c8-439d-af45-59420add1130",
   "metadata": {},
   "source": [
    "### 3. Finding duplicates"
   ]
  },
  {
   "cell_type": "code",
   "execution_count": 26,
   "id": "ce4e5e14-b05d-4b0e-8dc5-22d017c92789",
   "metadata": {},
   "outputs": [
    {
     "data": {
      "text/html": [
       "<div>\n",
       "<style scoped>\n",
       "    .dataframe tbody tr th:only-of-type {\n",
       "        vertical-align: middle;\n",
       "    }\n",
       "\n",
       "    .dataframe tbody tr th {\n",
       "        vertical-align: top;\n",
       "    }\n",
       "\n",
       "    .dataframe thead th {\n",
       "        text-align: right;\n",
       "    }\n",
       "</style>\n",
       "<table border=\"1\" class=\"dataframe\">\n",
       "  <thead>\n",
       "    <tr style=\"text-align: right;\">\n",
       "      <th></th>\n",
       "      <th>product_id</th>\n",
       "      <th>product_name</th>\n",
       "      <th>aisle_id</th>\n",
       "      <th>department_id</th>\n",
       "      <th>prices</th>\n",
       "    </tr>\n",
       "  </thead>\n",
       "  <tbody>\n",
       "    <tr>\n",
       "      <th>462</th>\n",
       "      <td>462</td>\n",
       "      <td>Fiber 4g Gummy Dietary Supplement</td>\n",
       "      <td>70</td>\n",
       "      <td>11</td>\n",
       "      <td>4.8</td>\n",
       "    </tr>\n",
       "    <tr>\n",
       "      <th>18459</th>\n",
       "      <td>18458</td>\n",
       "      <td>Ranger IPA</td>\n",
       "      <td>27</td>\n",
       "      <td>5</td>\n",
       "      <td>9.2</td>\n",
       "    </tr>\n",
       "    <tr>\n",
       "      <th>26810</th>\n",
       "      <td>26808</td>\n",
       "      <td>Black House Coffee Roasty Stout Beer</td>\n",
       "      <td>27</td>\n",
       "      <td>5</td>\n",
       "      <td>13.4</td>\n",
       "    </tr>\n",
       "    <tr>\n",
       "      <th>35309</th>\n",
       "      <td>35306</td>\n",
       "      <td>Gluten Free Organic Peanut Butter &amp; Chocolate ...</td>\n",
       "      <td>121</td>\n",
       "      <td>14</td>\n",
       "      <td>6.8</td>\n",
       "    </tr>\n",
       "    <tr>\n",
       "      <th>35495</th>\n",
       "      <td>35491</td>\n",
       "      <td>Adore Forever Body Wash</td>\n",
       "      <td>127</td>\n",
       "      <td>11</td>\n",
       "      <td>9.9</td>\n",
       "    </tr>\n",
       "  </tbody>\n",
       "</table>\n",
       "</div>"
      ],
      "text/plain": [
       "       product_id                                       product_name  \\\n",
       "462           462                  Fiber 4g Gummy Dietary Supplement   \n",
       "18459       18458                                         Ranger IPA   \n",
       "26810       26808               Black House Coffee Roasty Stout Beer   \n",
       "35309       35306  Gluten Free Organic Peanut Butter & Chocolate ...   \n",
       "35495       35491                            Adore Forever Body Wash   \n",
       "\n",
       "       aisle_id  department_id  prices  \n",
       "462          70             11     4.8  \n",
       "18459        27              5     9.2  \n",
       "26810        27              5    13.4  \n",
       "35309       121             14     6.8  \n",
       "35495       127             11     9.9  "
      ]
     },
     "execution_count": 26,
     "metadata": {},
     "output_type": "execute_result"
    }
   ],
   "source": [
    "df_dups_prods = df_prods_clean[df_prods_clean.duplicated()]\n",
    "\n",
    "df_dups_prods"
   ]
  },
  {
   "cell_type": "code",
   "execution_count": null,
   "id": "8d94d2b1-0cc9-429e-91f3-02de0017048d",
   "metadata": {},
   "outputs": [],
   "source": [
    "## addressing duplicates \n",
    "\n",
    "df_prods_clean_no_dups = df_prods_clean.drop_duplicates()"
   ]
  },
  {
   "cell_type": "markdown",
   "id": "1bd4e46c-39f1-4bf3-a2be-6b24e4147b16",
   "metadata": {},
   "source": [
    "Dropped the duplicates and placed them into a new dataframe, at the same time we did not change the original products table as best practice"
   ]
  },
  {
   "cell_type": "code",
   "execution_count": null,
   "id": "1a953053-1f5e-4f53-ac11-00d6d5e874a7",
   "metadata": {},
   "outputs": [],
   "source": [
    "## exporting products table \n",
    "\n",
    "df_prods_clean_no_dups.to_csv(os.path.join(path,'02 Data','Prepared Data', 'products_checked.csv'))"
   ]
  },
  {
   "cell_type": "markdown",
   "id": "4232ea57-5a13-43ca-b2e9-a067edd8604d",
   "metadata": {},
   "source": [
    "## Consistency Checks on Orders Table "
   ]
  },
  {
   "cell_type": "markdown",
   "id": "9878c06f-0516-41e4-8622-7675f2ff1e08",
   "metadata": {},
   "source": [
    "### 3. Investigating Data"
   ]
  },
  {
   "cell_type": "code",
   "execution_count": null,
   "id": "922c7673-7eb1-428a-8826-aaf55e09c1e4",
   "metadata": {},
   "outputs": [],
   "source": [
    "## importing and investigating data \n",
    "\n",
    "\n",
    "## to avoid scientific notation with describe\n",
    "pd.set_option('display.float_format', '{:.2f}'.format)\n",
    "\n",
    "df_ords.describe()"
   ]
  },
  {
   "cell_type": "markdown",
   "id": "d7bac04a-a3cc-407a-85cd-ae39a5ec9084",
   "metadata": {},
   "source": [
    "Nothing in the data looks off by looking at the data here. "
   ]
  },
  {
   "cell_type": "markdown",
   "id": "8fb8af5f-0d22-42dd-b17f-90541e787b65",
   "metadata": {},
   "source": [
    "### 4. Checking For mixed data type columns "
   ]
  },
  {
   "cell_type": "code",
   "execution_count": null,
   "id": "3c14152f-3c66-40ca-8e26-0815aed30802",
   "metadata": {
    "scrolled": true
   },
   "outputs": [],
   "source": [
    "for col in df_ords.columns.tolist():\n",
    "  weird = (df_ords[[col]].applymap(type) != df_ords[[col]].iloc[0].apply(type)).any(axis = 1)\n",
    "  if len (df_ords[weird]) > 0:\n",
    "    print (col)"
   ]
  },
  {
   "cell_type": "markdown",
   "id": "d8701050-7393-4b02-9ff5-4fe80158571e",
   "metadata": {},
   "source": [
    "No mixed type columns "
   ]
  },
  {
   "cell_type": "markdown",
   "id": "c05cced1-b9a9-462d-a7a8-a27b0fde2e65",
   "metadata": {},
   "source": [
    "### 5. Missing values in orders table?"
   ]
  },
  {
   "cell_type": "code",
   "execution_count": null,
   "id": "b1844cdd-fc68-4947-a880-974fd64e99c5",
   "metadata": {},
   "outputs": [],
   "source": [
    "df_ords.isnull().sum()"
   ]
  },
  {
   "cell_type": "markdown",
   "id": "22d54c8a-f055-4d18-922e-45ba6e7f1003",
   "metadata": {},
   "source": [
    "Missing values are 206209 in the days_since_prior_order. That is normal as every customer's first order will be NaN and we have 206209 different customers."
   ]
  },
  {
   "cell_type": "markdown",
   "id": "47e1a39a-0149-4b6c-841a-efb54fc609a5",
   "metadata": {},
   "source": [
    "### 6. Check for Duplicates"
   ]
  },
  {
   "cell_type": "code",
   "execution_count": null,
   "id": "b5a51112-6894-4fa0-b27f-5c56374dbd13",
   "metadata": {},
   "outputs": [],
   "source": [
    "df_dups_ords = df_ords[df_ords.duplicated()]\n",
    "\n",
    "df_dups_ords"
   ]
  },
  {
   "cell_type": "markdown",
   "id": "a979775f-2652-4397-ae26-cc588c859cdc",
   "metadata": {},
   "source": [
    "No duplicates found"
   ]
  },
  {
   "cell_type": "code",
   "execution_count": null,
   "id": "59975e12-7b70-4901-84b9-3ac86fc14f33",
   "metadata": {},
   "outputs": [],
   "source": [
    "## Exporting orders table \n",
    "\n",
    "df_ords.to_csv(os.path.join(path,'02 Data','Prepared Data', 'orders_checked.csv'))"
   ]
  },
  {
   "cell_type": "code",
   "execution_count": null,
   "id": "e6bc11d4-924c-449c-8657-f5ad1a5a75aa",
   "metadata": {},
   "outputs": [],
   "source": []
  },
  {
   "cell_type": "code",
   "execution_count": null,
   "id": "8a5061c4-ba37-4f7c-b13d-978f270f9201",
   "metadata": {},
   "outputs": [],
   "source": []
  },
  {
   "cell_type": "code",
   "execution_count": null,
   "id": "33950d58-f57d-4f54-a0a9-7613ff195660",
   "metadata": {},
   "outputs": [],
   "source": []
  },
  {
   "cell_type": "code",
   "execution_count": null,
   "id": "4944878e-673d-4bbd-8766-b5271dbe8833",
   "metadata": {},
   "outputs": [],
   "source": []
  }
 ],
 "metadata": {
  "kernelspec": {
   "display_name": "Python 3 (ipykernel)",
   "language": "python",
   "name": "python3"
  },
  "language_info": {
   "codemirror_mode": {
    "name": "ipython",
    "version": 3
   },
   "file_extension": ".py",
   "mimetype": "text/x-python",
   "name": "python",
   "nbconvert_exporter": "python",
   "pygments_lexer": "ipython3",
   "version": "3.12.4"
  }
 },
 "nbformat": 4,
 "nbformat_minor": 5
}
