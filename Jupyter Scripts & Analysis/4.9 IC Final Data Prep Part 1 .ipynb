{
 "cells": [
  {
   "cell_type": "markdown",
   "id": "2f6e3927-2f67-40ad-82f8-6cc1bf54b06e",
   "metadata": {},
   "source": [
    "## <h1><u>Preparing Data in Customer Table</u></h1>\n",
    "\n",
    "### 1. Understanding & Investigating the Data \n",
    "\n",
    "### 2. Mixed Data Type Check \n",
    "\n",
    "### 3. Renaming Columns \n",
    "\n",
    "### 4. Missing Observations Check (NaN) \n",
    "\n",
    "### 5. Duplicate Check \n",
    "\n",
    "### 6. Joining Orders/Prods Table with Customers  "
   ]
  },
  {
   "cell_type": "code",
   "execution_count": 1,
   "id": "0aabfd15-dd56-41d4-aaa8-7902079a199f",
   "metadata": {},
   "outputs": [],
   "source": [
    "## importing libraries & data \n",
    "import pandas as pd \n",
    "import numpy as np \n",
    "import os \n",
    "\n",
    "path = r'/Users/aahamoustafa/Desktop/Data Projects/Instacart Basket Analysis  12-2024'\n",
    "\n",
    "df_ords_prods = pd.read_pickle(os.path.join(path, '02 Data', 'Prepared Data', 'ords_prods_aggregations.pkl'))\n",
    "\n",
    "df_dept = pd.read_csv(os.path.join(path, '02 Data', 'Prepared Data', 'departments_wrangled.csv'), index_col = False)\n",
    "\n",
    "df_cust = pd.read_csv(os.path.join(path, '02 Data', 'Original Data', 'customers.csv'), index_col = False)"
   ]
  },
  {
   "cell_type": "markdown",
   "id": "dac8c908-c493-44a1-85a5-1db6862591f4",
   "metadata": {},
   "source": [
    "## 1. Understanding & Investigating customer data"
   ]
  },
  {
   "cell_type": "code",
   "execution_count": 3,
   "id": "6bf62de5-6765-48bf-b2c3-3b14f33b15e3",
   "metadata": {
    "scrolled": true
   },
   "outputs": [
    {
     "data": {
      "text/html": [
       "<div>\n",
       "<style scoped>\n",
       "    .dataframe tbody tr th:only-of-type {\n",
       "        vertical-align: middle;\n",
       "    }\n",
       "\n",
       "    .dataframe tbody tr th {\n",
       "        vertical-align: top;\n",
       "    }\n",
       "\n",
       "    .dataframe thead th {\n",
       "        text-align: right;\n",
       "    }\n",
       "</style>\n",
       "<table border=\"1\" class=\"dataframe\">\n",
       "  <thead>\n",
       "    <tr style=\"text-align: right;\">\n",
       "      <th></th>\n",
       "      <th>user_id</th>\n",
       "      <th>Age</th>\n",
       "      <th>n_dependants</th>\n",
       "      <th>income</th>\n",
       "    </tr>\n",
       "  </thead>\n",
       "  <tbody>\n",
       "    <tr>\n",
       "      <th>count</th>\n",
       "      <td>206209.00</td>\n",
       "      <td>206209.00</td>\n",
       "      <td>206209.00</td>\n",
       "      <td>206209.00</td>\n",
       "    </tr>\n",
       "    <tr>\n",
       "      <th>mean</th>\n",
       "      <td>103105.00</td>\n",
       "      <td>49.50</td>\n",
       "      <td>1.50</td>\n",
       "      <td>94632.85</td>\n",
       "    </tr>\n",
       "    <tr>\n",
       "      <th>std</th>\n",
       "      <td>59527.56</td>\n",
       "      <td>18.48</td>\n",
       "      <td>1.12</td>\n",
       "      <td>42473.79</td>\n",
       "    </tr>\n",
       "    <tr>\n",
       "      <th>min</th>\n",
       "      <td>1.00</td>\n",
       "      <td>18.00</td>\n",
       "      <td>0.00</td>\n",
       "      <td>25903.00</td>\n",
       "    </tr>\n",
       "    <tr>\n",
       "      <th>25%</th>\n",
       "      <td>51553.00</td>\n",
       "      <td>33.00</td>\n",
       "      <td>0.00</td>\n",
       "      <td>59874.00</td>\n",
       "    </tr>\n",
       "    <tr>\n",
       "      <th>50%</th>\n",
       "      <td>103105.00</td>\n",
       "      <td>49.00</td>\n",
       "      <td>1.00</td>\n",
       "      <td>93547.00</td>\n",
       "    </tr>\n",
       "    <tr>\n",
       "      <th>75%</th>\n",
       "      <td>154657.00</td>\n",
       "      <td>66.00</td>\n",
       "      <td>3.00</td>\n",
       "      <td>124244.00</td>\n",
       "    </tr>\n",
       "    <tr>\n",
       "      <th>max</th>\n",
       "      <td>206209.00</td>\n",
       "      <td>81.00</td>\n",
       "      <td>3.00</td>\n",
       "      <td>593901.00</td>\n",
       "    </tr>\n",
       "  </tbody>\n",
       "</table>\n",
       "</div>"
      ],
      "text/plain": [
       "        user_id       Age  n_dependants    income\n",
       "count 206209.00 206209.00     206209.00 206209.00\n",
       "mean  103105.00     49.50          1.50  94632.85\n",
       "std    59527.56     18.48          1.12  42473.79\n",
       "min        1.00     18.00          0.00  25903.00\n",
       "25%    51553.00     33.00          0.00  59874.00\n",
       "50%   103105.00     49.00          1.00  93547.00\n",
       "75%   154657.00     66.00          3.00 124244.00\n",
       "max   206209.00     81.00          3.00 593901.00"
      ]
     },
     "execution_count": 3,
     "metadata": {},
     "output_type": "execute_result"
    }
   ],
   "source": [
    "## understanding the new customer data \n",
    "\n",
    "pd.set_option('display.float_format', '{:.2f}'.format) ## remove scientific notation\n",
    "\n",
    "df_cust.describe()"
   ]
  },
  {
   "cell_type": "code",
   "execution_count": 15,
   "id": "139acae3-ed4c-4df4-a2f3-928fdd49d027",
   "metadata": {},
   "outputs": [
    {
     "data": {
      "text/html": [
       "<div>\n",
       "<style scoped>\n",
       "    .dataframe tbody tr th:only-of-type {\n",
       "        vertical-align: middle;\n",
       "    }\n",
       "\n",
       "    .dataframe tbody tr th {\n",
       "        vertical-align: top;\n",
       "    }\n",
       "\n",
       "    .dataframe thead th {\n",
       "        text-align: right;\n",
       "    }\n",
       "</style>\n",
       "<table border=\"1\" class=\"dataframe\">\n",
       "  <thead>\n",
       "    <tr style=\"text-align: right;\">\n",
       "      <th></th>\n",
       "      <th>user_id</th>\n",
       "      <th>first_name</th>\n",
       "      <th>surname</th>\n",
       "      <th>Gender</th>\n",
       "      <th>State</th>\n",
       "      <th>Age</th>\n",
       "      <th>date_joined</th>\n",
       "      <th>n_dependants</th>\n",
       "      <th>fam_status</th>\n",
       "      <th>income</th>\n",
       "    </tr>\n",
       "  </thead>\n",
       "  <tbody>\n",
       "    <tr>\n",
       "      <th>21726</th>\n",
       "      <td>58596</td>\n",
       "      <td>Thomas</td>\n",
       "      <td>Cohen</td>\n",
       "      <td>Male</td>\n",
       "      <td>Washington</td>\n",
       "      <td>75</td>\n",
       "      <td>5/6/2017</td>\n",
       "      <td>2</td>\n",
       "      <td>married</td>\n",
       "      <td>593901</td>\n",
       "    </tr>\n",
       "    <tr>\n",
       "      <th>202655</th>\n",
       "      <td>98580</td>\n",
       "      <td>nan</td>\n",
       "      <td>Patterson</td>\n",
       "      <td>Male</td>\n",
       "      <td>Washington</td>\n",
       "      <td>43</td>\n",
       "      <td>3/12/2020</td>\n",
       "      <td>2</td>\n",
       "      <td>married</td>\n",
       "      <td>592409</td>\n",
       "    </tr>\n",
       "    <tr>\n",
       "      <th>81583</th>\n",
       "      <td>103702</td>\n",
       "      <td>Kathryn</td>\n",
       "      <td>Mclaughlin</td>\n",
       "      <td>Female</td>\n",
       "      <td>Louisiana</td>\n",
       "      <td>55</td>\n",
       "      <td>4/14/2018</td>\n",
       "      <td>3</td>\n",
       "      <td>married</td>\n",
       "      <td>591089</td>\n",
       "    </tr>\n",
       "    <tr>\n",
       "      <th>111950</th>\n",
       "      <td>187680</td>\n",
       "      <td>Catherine</td>\n",
       "      <td>Church</td>\n",
       "      <td>Female</td>\n",
       "      <td>Wyoming</td>\n",
       "      <td>43</td>\n",
       "      <td>10/7/2018</td>\n",
       "      <td>2</td>\n",
       "      <td>married</td>\n",
       "      <td>590790</td>\n",
       "    </tr>\n",
       "    <tr>\n",
       "      <th>167037</th>\n",
       "      <td>189861</td>\n",
       "      <td>Pamela</td>\n",
       "      <td>Jordan</td>\n",
       "      <td>Female</td>\n",
       "      <td>Pennsylvania</td>\n",
       "      <td>47</td>\n",
       "      <td>8/21/2019</td>\n",
       "      <td>0</td>\n",
       "      <td>single</td>\n",
       "      <td>584097</td>\n",
       "    </tr>\n",
       "    <tr>\n",
       "      <th>...</th>\n",
       "      <td>...</td>\n",
       "      <td>...</td>\n",
       "      <td>...</td>\n",
       "      <td>...</td>\n",
       "      <td>...</td>\n",
       "      <td>...</td>\n",
       "      <td>...</td>\n",
       "      <td>...</td>\n",
       "      <td>...</td>\n",
       "      <td>...</td>\n",
       "    </tr>\n",
       "    <tr>\n",
       "      <th>67441</th>\n",
       "      <td>151083</td>\n",
       "      <td>Katherine</td>\n",
       "      <td>Rush</td>\n",
       "      <td>Female</td>\n",
       "      <td>Montana</td>\n",
       "      <td>32</td>\n",
       "      <td>1/24/2018</td>\n",
       "      <td>2</td>\n",
       "      <td>married</td>\n",
       "      <td>25955</td>\n",
       "    </tr>\n",
       "    <tr>\n",
       "      <th>169181</th>\n",
       "      <td>183978</td>\n",
       "      <td>Frances</td>\n",
       "      <td>Nixon</td>\n",
       "      <td>Female</td>\n",
       "      <td>Montana</td>\n",
       "      <td>39</td>\n",
       "      <td>9/2/2019</td>\n",
       "      <td>3</td>\n",
       "      <td>married</td>\n",
       "      <td>25941</td>\n",
       "    </tr>\n",
       "    <tr>\n",
       "      <th>194354</th>\n",
       "      <td>162338</td>\n",
       "      <td>nan</td>\n",
       "      <td>Page</td>\n",
       "      <td>Female</td>\n",
       "      <td>California</td>\n",
       "      <td>21</td>\n",
       "      <td>1/25/2020</td>\n",
       "      <td>1</td>\n",
       "      <td>living with parents and siblings</td>\n",
       "      <td>25937</td>\n",
       "    </tr>\n",
       "    <tr>\n",
       "      <th>105031</th>\n",
       "      <td>193849</td>\n",
       "      <td>Patricia</td>\n",
       "      <td>Hart</td>\n",
       "      <td>Female</td>\n",
       "      <td>West Virginia</td>\n",
       "      <td>34</td>\n",
       "      <td>8/27/2018</td>\n",
       "      <td>2</td>\n",
       "      <td>married</td>\n",
       "      <td>25911</td>\n",
       "    </tr>\n",
       "    <tr>\n",
       "      <th>34047</th>\n",
       "      <td>134975</td>\n",
       "      <td>Robert</td>\n",
       "      <td>Wheeler</td>\n",
       "      <td>Male</td>\n",
       "      <td>North Dakota</td>\n",
       "      <td>39</td>\n",
       "      <td>7/16/2017</td>\n",
       "      <td>0</td>\n",
       "      <td>single</td>\n",
       "      <td>25903</td>\n",
       "    </tr>\n",
       "  </tbody>\n",
       "</table>\n",
       "<p>206209 rows × 10 columns</p>\n",
       "</div>"
      ],
      "text/plain": [
       "        user_id first_name     surname  Gender          State  Age  \\\n",
       "21726     58596     Thomas       Cohen    Male     Washington   75   \n",
       "202655    98580        nan   Patterson    Male     Washington   43   \n",
       "81583    103702    Kathryn  Mclaughlin  Female      Louisiana   55   \n",
       "111950   187680  Catherine      Church  Female        Wyoming   43   \n",
       "167037   189861     Pamela      Jordan  Female   Pennsylvania   47   \n",
       "...         ...        ...         ...     ...            ...  ...   \n",
       "67441    151083  Katherine        Rush  Female        Montana   32   \n",
       "169181   183978    Frances       Nixon  Female        Montana   39   \n",
       "194354   162338        nan        Page  Female     California   21   \n",
       "105031   193849   Patricia        Hart  Female  West Virginia   34   \n",
       "34047    134975     Robert     Wheeler    Male   North Dakota   39   \n",
       "\n",
       "       date_joined  n_dependants                        fam_status  income  \n",
       "21726     5/6/2017             2                           married  593901  \n",
       "202655   3/12/2020             2                           married  592409  \n",
       "81583    4/14/2018             3                           married  591089  \n",
       "111950   10/7/2018             2                           married  590790  \n",
       "167037   8/21/2019             0                            single  584097  \n",
       "...            ...           ...                               ...     ...  \n",
       "67441    1/24/2018             2                           married   25955  \n",
       "169181    9/2/2019             3                           married   25941  \n",
       "194354   1/25/2020             1  living with parents and siblings   25937  \n",
       "105031   8/27/2018             2                           married   25911  \n",
       "34047    7/16/2017             0                            single   25903  \n",
       "\n",
       "[206209 rows x 10 columns]"
      ]
     },
     "execution_count": 15,
     "metadata": {},
     "output_type": "execute_result"
    }
   ],
   "source": [
    "df_cust.sort_values(by = 'income', ascending = False)\n"
   ]
  },
  {
   "cell_type": "markdown",
   "id": "95462647-e425-4f1a-b1f9-660cafe323c8",
   "metadata": {},
   "source": [
    "#### Looks like there are is a really high income outside of the mean/median range, we will need to investigate further using some charts"
   ]
  },
  {
   "cell_type": "code",
   "execution_count": 5,
   "id": "a5bd8161-62e0-4c21-9736-24b02cf2b3aa",
   "metadata": {
    "scrolled": true
   },
   "outputs": [
    {
     "name": "stdout",
     "output_type": "stream",
     "text": [
      "<class 'pandas.core.frame.DataFrame'>\n",
      "RangeIndex: 206209 entries, 0 to 206208\n",
      "Data columns (total 10 columns):\n",
      " #   Column        Non-Null Count   Dtype \n",
      "---  ------        --------------   ----- \n",
      " 0   user_id       206209 non-null  int64 \n",
      " 1   First Name    194950 non-null  object\n",
      " 2   Surnam        206209 non-null  object\n",
      " 3   Gender        206209 non-null  object\n",
      " 4   STATE         206209 non-null  object\n",
      " 5   Age           206209 non-null  int64 \n",
      " 6   date_joined   206209 non-null  object\n",
      " 7   n_dependants  206209 non-null  int64 \n",
      " 8   fam_status    206209 non-null  object\n",
      " 9   income        206209 non-null  int64 \n",
      "dtypes: int64(4), object(6)\n",
      "memory usage: 15.7+ MB\n"
     ]
    }
   ],
   "source": [
    "df_cust.info()"
   ]
  },
  {
   "cell_type": "markdown",
   "id": "936d8490-2af5-449c-b8a3-08dcc21bca15",
   "metadata": {},
   "source": [
    "## 2. Mixed data type check"
   ]
  },
  {
   "cell_type": "code",
   "execution_count": null,
   "id": "1f90601b-3d17-446d-b798-d5a03afa4ca5",
   "metadata": {
    "scrolled": true
   },
   "outputs": [],
   "source": [
    "## any mixed type columns?\n",
    "\n",
    "for col in df_cust.columns.tolist():\n",
    "  weird = (df_cust[[col]].applymap(type) != df_cust[[col]].iloc[0].apply(type)).any(axis = 1)\n",
    "  if len (df_cust[weird]) > 0:\n",
    "    print (col)"
   ]
  },
  {
   "cell_type": "markdown",
   "id": "515f930e-cdad-418d-b054-59eb08399f83",
   "metadata": {},
   "source": [
    "#### First name column has mixed type due to its NaN values "
   ]
  },
  {
   "cell_type": "code",
   "execution_count": 7,
   "id": "0b4722ec-4345-4fe1-87f2-6e8a04cd88f8",
   "metadata": {},
   "outputs": [],
   "source": [
    "## changing First Name Column to string data type \n",
    "\n",
    "df_cust['first_name'] = df_cust['first_name'].astype('str')"
   ]
  },
  {
   "cell_type": "markdown",
   "id": "d8a479ac-5e81-4bff-b6e7-35ce2901a300",
   "metadata": {},
   "source": [
    "## 3. Renaming Columns "
   ]
  },
  {
   "cell_type": "code",
   "execution_count": 5,
   "id": "3554b964-5361-4556-8f59-f8457bcb9393",
   "metadata": {
    "scrolled": true
   },
   "outputs": [
    {
     "data": {
      "text/html": [
       "<div>\n",
       "<style scoped>\n",
       "    .dataframe tbody tr th:only-of-type {\n",
       "        vertical-align: middle;\n",
       "    }\n",
       "\n",
       "    .dataframe tbody tr th {\n",
       "        vertical-align: top;\n",
       "    }\n",
       "\n",
       "    .dataframe thead th {\n",
       "        text-align: right;\n",
       "    }\n",
       "</style>\n",
       "<table border=\"1\" class=\"dataframe\">\n",
       "  <thead>\n",
       "    <tr style=\"text-align: right;\">\n",
       "      <th></th>\n",
       "      <th>user_id</th>\n",
       "      <th>first_name</th>\n",
       "      <th>surname</th>\n",
       "      <th>Gender</th>\n",
       "      <th>State</th>\n",
       "      <th>Age</th>\n",
       "      <th>date_joined</th>\n",
       "      <th>n_dependants</th>\n",
       "      <th>fam_status</th>\n",
       "      <th>income</th>\n",
       "    </tr>\n",
       "  </thead>\n",
       "  <tbody>\n",
       "    <tr>\n",
       "      <th>0</th>\n",
       "      <td>26711</td>\n",
       "      <td>Deborah</td>\n",
       "      <td>Esquivel</td>\n",
       "      <td>Female</td>\n",
       "      <td>Missouri</td>\n",
       "      <td>48</td>\n",
       "      <td>1/1/2017</td>\n",
       "      <td>3</td>\n",
       "      <td>married</td>\n",
       "      <td>165665</td>\n",
       "    </tr>\n",
       "    <tr>\n",
       "      <th>1</th>\n",
       "      <td>33890</td>\n",
       "      <td>Patricia</td>\n",
       "      <td>Hart</td>\n",
       "      <td>Female</td>\n",
       "      <td>New Mexico</td>\n",
       "      <td>36</td>\n",
       "      <td>1/1/2017</td>\n",
       "      <td>0</td>\n",
       "      <td>single</td>\n",
       "      <td>59285</td>\n",
       "    </tr>\n",
       "    <tr>\n",
       "      <th>2</th>\n",
       "      <td>65803</td>\n",
       "      <td>Kenneth</td>\n",
       "      <td>Farley</td>\n",
       "      <td>Male</td>\n",
       "      <td>Idaho</td>\n",
       "      <td>35</td>\n",
       "      <td>1/1/2017</td>\n",
       "      <td>2</td>\n",
       "      <td>married</td>\n",
       "      <td>99568</td>\n",
       "    </tr>\n",
       "    <tr>\n",
       "      <th>3</th>\n",
       "      <td>125935</td>\n",
       "      <td>Michelle</td>\n",
       "      <td>Hicks</td>\n",
       "      <td>Female</td>\n",
       "      <td>Iowa</td>\n",
       "      <td>40</td>\n",
       "      <td>1/1/2017</td>\n",
       "      <td>0</td>\n",
       "      <td>single</td>\n",
       "      <td>42049</td>\n",
       "    </tr>\n",
       "    <tr>\n",
       "      <th>4</th>\n",
       "      <td>130797</td>\n",
       "      <td>Ann</td>\n",
       "      <td>Gilmore</td>\n",
       "      <td>Female</td>\n",
       "      <td>Maryland</td>\n",
       "      <td>26</td>\n",
       "      <td>1/1/2017</td>\n",
       "      <td>1</td>\n",
       "      <td>married</td>\n",
       "      <td>40374</td>\n",
       "    </tr>\n",
       "  </tbody>\n",
       "</table>\n",
       "</div>"
      ],
      "text/plain": [
       "   user_id first_name   surname  Gender       State  Age date_joined  \\\n",
       "0    26711    Deborah  Esquivel  Female    Missouri   48    1/1/2017   \n",
       "1    33890   Patricia      Hart  Female  New Mexico   36    1/1/2017   \n",
       "2    65803    Kenneth    Farley    Male       Idaho   35    1/1/2017   \n",
       "3   125935   Michelle     Hicks  Female        Iowa   40    1/1/2017   \n",
       "4   130797        Ann   Gilmore  Female    Maryland   26    1/1/2017   \n",
       "\n",
       "   n_dependants fam_status  income  \n",
       "0             3    married  165665  \n",
       "1             0     single   59285  \n",
       "2             2    married   99568  \n",
       "3             0     single   42049  \n",
       "4             1    married   40374  "
      ]
     },
     "execution_count": 5,
     "metadata": {},
     "output_type": "execute_result"
    }
   ],
   "source": [
    "## renaming Some column names \n",
    "\n",
    "df_cust = df_cust.rename(columns = {'Surnam' : 'surname','STATE' : 'State', 'First Name' : 'first_name'})\n",
    "df_cust.head()"
   ]
  },
  {
   "cell_type": "markdown",
   "id": "6807b463-1c5e-4c74-a3fe-8829d4785687",
   "metadata": {},
   "source": [
    "## 4. Checking for Missing Observations "
   ]
  },
  {
   "cell_type": "code",
   "execution_count": null,
   "id": "5be2abb2-df92-4ff4-878b-cd6408f81293",
   "metadata": {},
   "outputs": [],
   "source": [
    "## finding missing observations \n",
    "\n",
    "df_cust.isnull().sum()"
   ]
  },
  {
   "cell_type": "code",
   "execution_count": null,
   "id": "7015c12b-5eb5-4422-9fda-63b95d368a68",
   "metadata": {
    "scrolled": true
   },
   "outputs": [],
   "source": [
    "### looking at those missing values\n",
    "\n",
    "df_nan_cust = df_cust[df_cust['first_name'].isnull() == True]\n",
    "\n",
    "df_nan_cust"
   ]
  },
  {
   "cell_type": "markdown",
   "id": "f9a29453-da28-41d8-8ed3-52fe7d2dc652",
   "metadata": {},
   "source": [
    "#### We have 11259 rows with missing first names, but we will still use the data as it contains other important information related to the user. "
   ]
  },
  {
   "cell_type": "markdown",
   "id": "d57473a5-7cb9-4991-9fc8-6a98e7b0dd15",
   "metadata": {},
   "source": [
    "## 5. Duplicate Checks "
   ]
  },
  {
   "cell_type": "code",
   "execution_count": 15,
   "id": "c090627a-1a92-42c4-98ba-c649dd0c5da8",
   "metadata": {},
   "outputs": [
    {
     "data": {
      "text/html": [
       "<div>\n",
       "<style scoped>\n",
       "    .dataframe tbody tr th:only-of-type {\n",
       "        vertical-align: middle;\n",
       "    }\n",
       "\n",
       "    .dataframe tbody tr th {\n",
       "        vertical-align: top;\n",
       "    }\n",
       "\n",
       "    .dataframe thead th {\n",
       "        text-align: right;\n",
       "    }\n",
       "</style>\n",
       "<table border=\"1\" class=\"dataframe\">\n",
       "  <thead>\n",
       "    <tr style=\"text-align: right;\">\n",
       "      <th></th>\n",
       "      <th>user_id</th>\n",
       "      <th>first_name</th>\n",
       "      <th>surname</th>\n",
       "      <th>Gender</th>\n",
       "      <th>State</th>\n",
       "      <th>Age</th>\n",
       "      <th>date_joined</th>\n",
       "      <th>n_dependants</th>\n",
       "      <th>fam_status</th>\n",
       "      <th>income</th>\n",
       "    </tr>\n",
       "  </thead>\n",
       "  <tbody>\n",
       "  </tbody>\n",
       "</table>\n",
       "</div>"
      ],
      "text/plain": [
       "Empty DataFrame\n",
       "Columns: [user_id, first_name, surname, Gender, State, Age, date_joined, n_dependants, fam_status, income]\n",
       "Index: []"
      ]
     },
     "execution_count": 15,
     "metadata": {},
     "output_type": "execute_result"
    }
   ],
   "source": [
    "## finding duplicates \n",
    "\n",
    "df_dups_cust = df_cust[df_cust.duplicated()]\n",
    "\n",
    "df_dups_cust"
   ]
  },
  {
   "cell_type": "markdown",
   "id": "f9448b1b-91f7-4b3c-8496-03a79ec3c890",
   "metadata": {},
   "source": [
    "#### No duplicates!"
   ]
  },
  {
   "cell_type": "markdown",
   "id": "14847741-0210-4442-bf4b-14c2182dd30a",
   "metadata": {},
   "source": [
    "## 6. Merging Order/products Table with Customers Table"
   ]
  },
  {
   "cell_type": "code",
   "execution_count": null,
   "id": "af37603b-b6a3-4efd-a230-c4264d82cc2c",
   "metadata": {
    "scrolled": true
   },
   "outputs": [],
   "source": [
    "## checking on data type for ( user_id) as we are joining on it \n",
    "\n",
    "df_ords_prods.info()\n",
    "\n",
    "## dropping some columns \n",
    "\n",
    "df_ords_prods.drop(columns='_merge', inplace=True)\n"
   ]
  },
  {
   "cell_type": "code",
   "execution_count": 11,
   "id": "d873a433-948a-4be8-902e-92c8840d1197",
   "metadata": {},
   "outputs": [],
   "source": [
    "## merging tables \n",
    "\n",
    "df_merged = df_ords_prods.merge(df_cust, on=['user_id'], indicator='merge_status')"
   ]
  },
  {
   "cell_type": "code",
   "execution_count": 19,
   "id": "fcd90707-fb69-4129-b3e4-0556de370432",
   "metadata": {
    "scrolled": true
   },
   "outputs": [
    {
     "name": "stdout",
     "output_type": "stream",
     "text": [
      "<class 'pandas.core.frame.DataFrame'>\n",
      "RangeIndex: 32404859 entries, 0 to 32404858\n",
      "Data columns (total 32 columns):\n",
      " #   Column                         Dtype   \n",
      "---  ------                         -----   \n",
      " 0   order_id                       int64   \n",
      " 1   user_id                        int64   \n",
      " 2   order_number                   int64   \n",
      " 3   order_day_of_week              int64   \n",
      " 4   order_hour_of_day              int64   \n",
      " 5   days_since_prior_order         float64 \n",
      " 6   product_id                     int64   \n",
      " 7   add_to_cart_order              int64   \n",
      " 8   reordered                      int64   \n",
      " 9   product_name                   object  \n",
      " 10  aisle_id                       int64   \n",
      " 11  department_id                  int64   \n",
      " 12  prices                         float64 \n",
      " 13  price_range_loc                object  \n",
      " 14  Busiest_day                    object  \n",
      " 15  Busiest_period_of_day          object  \n",
      " 16  max_order                      int64   \n",
      " 17  loyalty_flag                   object  \n",
      " 18  average_price                  float64 \n",
      " 19  spending_flag                  object  \n",
      " 20  median_days_since_prior_order  float64 \n",
      " 21  freq_flag                      object  \n",
      " 22  first_name                     object  \n",
      " 23  surname                        object  \n",
      " 24  Gender                         object  \n",
      " 25  State                          object  \n",
      " 26  Age                            int64   \n",
      " 27  date_joined                    object  \n",
      " 28  n_dependants                   int64   \n",
      " 29  fam_status                     object  \n",
      " 30  income                         int64   \n",
      " 31  merge_status                   category\n",
      "dtypes: category(1), float64(4), int64(14), object(13)\n",
      "memory usage: 7.5+ GB\n"
     ]
    }
   ],
   "source": [
    "df_merged.info()"
   ]
  },
  {
   "cell_type": "code",
   "execution_count": 17,
   "id": "dcbe313b-ea05-40a7-9a62-b18eda44c0b6",
   "metadata": {},
   "outputs": [
    {
     "data": {
      "text/plain": [
       "merge_status\n",
       "both          32404859\n",
       "left_only            0\n",
       "right_only           0\n",
       "Name: count, dtype: int64"
      ]
     },
     "execution_count": 17,
     "metadata": {},
     "output_type": "execute_result"
    }
   ],
   "source": [
    "## checking on merge flag with inner join \n",
    "\n",
    "df_merged['merge_status'].value_counts()"
   ]
  },
  {
   "cell_type": "code",
   "execution_count": 13,
   "id": "3d5c8cca-8dc0-454f-9608-5576b983ef23",
   "metadata": {},
   "outputs": [],
   "source": [
    "## dropping the merge status column \n",
    "\n",
    "df_merged.drop(columns='merge_status', inplace=True)"
   ]
  },
  {
   "cell_type": "markdown",
   "id": "87fecea8-d073-4404-8ca9-5d112f951d68",
   "metadata": {},
   "source": [
    "#### Data is Clean and all users present in customer table are present in the original ords-prods table "
   ]
  },
  {
   "cell_type": "markdown",
   "id": "470a5f39-275d-4af1-b9f1-3747f84c460d",
   "metadata": {},
   "source": [
    "## 7. Exporting the Data"
   ]
  },
  {
   "cell_type": "code",
   "execution_count": 24,
   "id": "efbba67d-ebbc-4bdb-9ddd-db7f91f1879b",
   "metadata": {},
   "outputs": [],
   "source": [
    "df_merged.to_pickle(os.path.join(path, '02 Data','Prepared Data', 'ords_prods_cust.pkl'))"
   ]
  },
  {
   "cell_type": "code",
   "execution_count": null,
   "id": "bfae226d-e5da-4110-89ef-ed767ebc40f2",
   "metadata": {},
   "outputs": [],
   "source": []
  }
 ],
 "metadata": {
  "kernelspec": {
   "display_name": "Python 3 (ipykernel)",
   "language": "python",
   "name": "python3"
  },
  "language_info": {
   "codemirror_mode": {
    "name": "ipython",
    "version": 3
   },
   "file_extension": ".py",
   "mimetype": "text/x-python",
   "name": "python",
   "nbconvert_exporter": "python",
   "pygments_lexer": "ipython3",
   "version": "3.12.4"
  }
 },
 "nbformat": 4,
 "nbformat_minor": 5
}
