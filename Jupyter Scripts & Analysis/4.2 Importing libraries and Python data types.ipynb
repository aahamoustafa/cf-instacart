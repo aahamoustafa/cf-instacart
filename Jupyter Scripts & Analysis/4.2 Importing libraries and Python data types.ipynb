{
 "cells": [
  {
   "cell_type": "markdown",
   "id": "e5494e91-a67f-433f-87f7-409b9c1619e3",
   "metadata": {},
   "source": [
    "# 01 Importing Libraries # "
   ]
  },
  {
   "cell_type": "code",
   "execution_count": 3,
   "id": "a057ec74-1610-4bd6-8811-567f474fe0c4",
   "metadata": {},
   "outputs": [],
   "source": [
    "## import libraries after installing them on the terminal  \n",
    "import pandas as pd \n",
    "import numpy as np \n",
    "import os "
   ]
  },
  {
   "cell_type": "markdown",
   "id": "86b7e367-9715-4008-addd-5fb7d35a8e17",
   "metadata": {},
   "source": [
    "# 02 Testing different Data Types #"
   ]
  },
  {
   "cell_type": "code",
   "execution_count": 11,
   "id": "7546c4f4-d014-4027-a423-88a7b590a46c",
   "metadata": {},
   "outputs": [
    {
     "name": "stdout",
     "output_type": "stream",
     "text": [
      "1: 100\n",
      "2: 100\n",
      "3: 100\n"
     ]
    }
   ],
   "source": [
    "## Code 3 different ways of reaching a result of 100 \n",
    "x = 50 \n",
    "y = 50 \n",
    "print('1:', x + y) \n",
    "\n",
    "z = 50 \n",
    "v = 2\n",
    "print ('2:',  z*v) \n",
    "\n",
    "i = 102 \n",
    "f = 2 \n",
    "print ('3:', i-f) \n"
   ]
  },
  {
   "cell_type": "code",
   "execution_count": 27,
   "id": "495f32a9-f2d2-4ab6-b935-96570adad08c",
   "metadata": {},
   "outputs": [
    {
     "name": "stdout",
     "output_type": "stream",
     "text": [
      "3.7407407407407405\n"
     ]
    }
   ],
   "source": [
    "## Code 2 floating point variables and divide them by each other \n",
    "\n",
    "x = 10.1\n",
    "y = 2.7 \n",
    "print(x/y)"
   ]
  },
  {
   "cell_type": "code",
   "execution_count": 33,
   "id": "7840b0aa-b84d-4c09-aa41-3f64489a686e",
   "metadata": {},
   "outputs": [
    {
     "name": "stdout",
     "output_type": "stream",
     "text": [
      "Abdelrahman Moustafa\n"
     ]
    }
   ],
   "source": [
    "## constructing a string \n",
    "\n",
    "first_name = 'Abdelrahman'\n",
    "last_name = ' Moustafa' \n",
    "\n",
    "print( first_name + last_name) "
   ]
  },
  {
   "cell_type": "code",
   "execution_count": null,
   "id": "68d617ea-5c0c-41a1-91e0-625e872651c1",
   "metadata": {},
   "outputs": [],
   "source": []
  },
  {
   "cell_type": "code",
   "execution_count": null,
   "id": "421e6e8a-b18f-4daa-aeb0-72b28fdf0cc9",
   "metadata": {},
   "outputs": [],
   "source": []
  },
  {
   "cell_type": "code",
   "execution_count": null,
   "id": "eb183030-dd8a-4d38-b4b7-0c3a0fdc9056",
   "metadata": {},
   "outputs": [],
   "source": []
  }
 ],
 "metadata": {
  "kernelspec": {
   "display_name": "Python 3 (ipykernel)",
   "language": "python",
   "name": "python3"
  },
  "language_info": {
   "codemirror_mode": {
    "name": "ipython",
    "version": 3
   },
   "file_extension": ".py",
   "mimetype": "text/x-python",
   "name": "python",
   "nbconvert_exporter": "python",
   "pygments_lexer": "ipython3",
   "version": "3.12.4"
  }
 },
 "nbformat": 4,
 "nbformat_minor": 5
}
